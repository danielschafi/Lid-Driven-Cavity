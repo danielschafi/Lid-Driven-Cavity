{
 "cells": [
  {
   "cell_type": "markdown",
   "metadata": {},
   "source": [
    "## Lid Driven Cavity"
   ]
  },
  {
   "cell_type": "code",
   "execution_count": 233,
   "metadata": {},
   "outputs": [],
   "source": [
    "import numpy as np\n",
    "import matplotlib.pyplot as plt\n",
    "from enum import Enum\n"
   ]
  },
  {
   "cell_type": "markdown",
   "metadata": {},
   "source": [
    "## Definitions"
   ]
  },
  {
   "cell_type": "code",
   "execution_count": 234,
   "metadata": {},
   "outputs": [],
   "source": [
    "GRID_SIZE = (41,41)\n",
    "DOMAIN_SIZE = (1,1) # m\n",
    "\n",
    "rho = 1 # kg/m^3 Density\n",
    "nu = 0.01 # m/s^2 Kinematic Viscosity (v -> nu)\n",
    "\n",
    "h = (DOMAIN_SIZE[0] / GRID_SIZE[0])# m : size of one cell\n",
    "delta_t = 1 # s"
   ]
  },
  {
   "cell_type": "code",
   "execution_count": 235,
   "metadata": {},
   "outputs": [],
   "source": [
    "class BCType(Enum):\n",
    "    DIRICHLET = 0\n",
    "    NEUMANN = 1\n",
    "\n",
    "class BCLocation(Enum):\n",
    "    \"\"\"\n",
    "    Enum for defining the location where bc is applied\n",
    "    by calling .value you can get the slice for the grid\n",
    "    \"\"\"\n",
    "    TOP = (0, slice(None))         # [0, :]\n",
    "    BOTTOM = (-1, slice(None))     # [-1, :]\n",
    "    LEFT = (slice(None), 0)        # [:, 0]\n",
    "    RIGHT = (slice(None), -1)      # [:, -1]\n",
    "    \n",
    "    # One row inside\n",
    "    TOP_INSIDE = (1, slice(None))        # [1,:]\n",
    "    BOTTOM_INSIDE = (-2, slice(None))    # [-2,:]\n",
    "    LEFT_INSIDE = (slice(None), 1)       # [:, 1]\n",
    "    RIGHT_INSIDE = (slice(None), -2)     # [:,-2]\n",
    "    \n",
    "\n",
    "    def inside(self):\n",
    "        \"\"\"\n",
    "        Returns the row next to the boundary, that is inside the domain\n",
    "        with .value you can get the slicing object\n",
    "\n",
    "        Returns:\n",
    "            BCLocation: The Location inside the domain next to the boundary\n",
    "        \"\"\"\n",
    "        match self:\n",
    "            case BCLocation.TOP:\n",
    "                return BCLocation.TOP_INSIDE\n",
    "            case BCLocation.BOTTOM:\n",
    "                return BCLocation.BOTTOM_INSIDE\n",
    "            case BCLocation.LEFT:\n",
    "                return BCLocation.LEFT_INSIDE\n",
    "            case BCLocation.RIGHT:\n",
    "                return BCLocation.RIGHT_INSIDE \n",
    "            \n",
    "        \n",
    "\n",
    "class FluidProperty(Enum):\n",
    "    VELOCITY = 0\n",
    "    PRESSURE = 1"
   ]
  },
  {
   "cell_type": "code",
   "execution_count": 236,
   "metadata": {},
   "outputs": [
    {
     "data": {
      "text/plain": [
       "(-2, slice(None, None, None))"
      ]
     },
     "execution_count": 236,
     "metadata": {},
     "output_type": "execute_result"
    }
   ],
   "source": [
    "BCLocation.BOTTOM.inside().value"
   ]
  },
  {
   "cell_type": "markdown",
   "metadata": {},
   "source": [
    "## 0. Initialisierung am Rechengitter"
   ]
  },
  {
   "cell_type": "code",
   "execution_count": 237,
   "metadata": {},
   "outputs": [],
   "source": [
    "class Grid():\n",
    "    def __init__(self, \n",
    "                 grid_size: tuple[int, int], \n",
    "                 domain_size: tuple[int,int]):\n",
    "        \n",
    "        # dimensions\n",
    "        self.grid_size = grid_size\n",
    "        self.domain_size = domain_size\n",
    "        \n",
    "        # points along one coordinate axis (maybe dont need to save)\n",
    "        self._x_points: np.ndarray\n",
    "        self._y_points: np.ndarray\n",
    "        \n",
    "        # meshgrid coordinates\n",
    "        self.x: np.ndarray\n",
    "        self.y: np.ndarray\n",
    "        \n",
    "        # velocity\n",
    "        self.ux: np.ndarray\n",
    "        self.uy: np.ndarray\n",
    "        \n",
    "        # pressure\n",
    "        self.p: np.ndarray\n",
    "        \n",
    "        self._initialize_mesh()\n",
    "        \n",
    "        \n",
    "    def _initialize_mesh(self) -> None:\n",
    "        \"\"\"\n",
    "        Initializes the mesh\n",
    "        Coordinates x, y + Grids for pressure, velocity in x and y direction\n",
    "        \"\"\"\n",
    "        self._x_points = np.linspace(0,self.domain_size[0], self.grid_size[0])\n",
    "        self._y_points = np.linspace(0, self.domain_size[1], self.grid_size[1])\n",
    "        \n",
    "        self.x, self.y = np.meshgrid(self._x_points, self._y_points) \n",
    "    \n",
    "        self.ux = np.zeros(self.grid_size)\n",
    "        self.uy = np.zeros(self.grid_size)\n",
    "        self.p = np.zeros(self.grid_size)\n",
    "            \n",
    "    \n",
    "    def bc_enforce_pressure(self) -> None:\n",
    "        \"\"\"\n",
    "        Enforces the pressure boundary conditions on the grid\n",
    "        \"\"\"\n",
    "        self._bc_enforce(type=BCType.NEUMANN, \n",
    "                        location=[BCLocation.RIGHT, BCLocation.BOTTOM, BCLocation.LEFT], \n",
    "                        val=0,\n",
    "                        fluid_property=FluidProperty.PRESSURE)\n",
    "        \n",
    "        self._bc_enforce(type=BCType.DIRICHLET, \n",
    "                        location=BCLocation.TOP, \n",
    "                        val=0,\n",
    "                        fluid_property=FluidProperty.PRESSURE)  \n",
    "        \n",
    "        \n",
    "    def bc_enforce_velocity(self) -> None:\n",
    "        \"\"\"\n",
    "        Enforces the velocity boundary conditions on the grid\n",
    "        \"\"\"\n",
    "        self._bc_enforce(type=BCType.DIRICHLET, \n",
    "                        location=[BCLocation.RIGHT, BCLocation.BOTTOM, BCLocation.LEFT], \n",
    "                        val=[0,0],\n",
    "                        fluid_property=FluidProperty.VELOCITY)\n",
    "        \n",
    "        self._bc_enforce(type=BCType.DIRICHLET,\n",
    "                        location=BCLocation.TOP,\n",
    "                        val=[1,0],\n",
    "                        fluid_property=FluidProperty.VELOCITY)\n",
    "        \n",
    "        \n",
    "    def _bc_enforce(self,\n",
    "                   type: BCType,\n",
    "                   location: BCLocation | list[BCLocation], \n",
    "                   val: list[float,float] | float,\n",
    "                   fluid_property: FluidProperty):\n",
    "        \"\"\"\n",
    "        Enforces the boundary condition of the specified type at location on the Grid\n",
    "\n",
    "        Args:\n",
    "            type (BCType): The type of the boundary condition\n",
    "            location (BCLocation): Where to apply bc, if a list then the same bc is applied to all locations in the list\n",
    "            val (float): value to set the gradient to\n",
    "            fluid_property (FluidProperty): Which property to enforce the boundary condition on\n",
    "        \"\"\"\n",
    "        match type:\n",
    "            case BCType.DIRICHLET:\n",
    "                if isinstance(location, list):\n",
    "                    for loc in location:\n",
    "                        self._bc_dirichlet(loc, val, fluid_property)        \n",
    "                else:\n",
    "                    self._bc_dirichlet(location, val, fluid_property)\n",
    "                \n",
    "            case BCType.NEUMANN:\n",
    "                if isinstance(location, list):\n",
    "                    for loc in location:\n",
    "                        self._bc_neumann_0(loc, fluid_property)\n",
    "                else:\n",
    "                    self._bc_neumann_0(location, fluid_property)\n",
    "    \n",
    "    def _bc_dirichlet(self,\n",
    "                      location: BCLocation, \n",
    "                      val: list[float,float] | float, \n",
    "                      fluid_property: FluidProperty):\n",
    "        \"\"\"\n",
    "        Enforces the boundary condition on the grid\n",
    "\n",
    "        Args:\n",
    "            location (BCLocation): Where to apply the boundary condition\n",
    "            val (list[float,float] | float): what to set the boundary to. expects a vector for velocity and a float for pressure\n",
    "            fluid_property (FluidProperty): Which property to enforce the boundary condition on\n",
    "        \"\"\"\n",
    "        if fluid_property == FluidProperty.VELOCITY:\n",
    "            assert isinstance(val, list)\n",
    "            self.ux[location.value] = val[0]\n",
    "            self.uy[location.value] = val[1]\n",
    "\n",
    "        elif fluid_property == FluidProperty.PRESSURE:\n",
    "            assert isinstance(val, (float, int))\n",
    "            self.p[location.value] = val\n",
    "\n",
    "            \n",
    "    def _bc_neumann_0(self,\n",
    "                    location: BCLocation,\n",
    "                    fluid_property: FluidProperty) -> None:\n",
    "        \"\"\"\n",
    "        Enforces the boundary condition on the grid\n",
    "        Neumann boundary condition  = 0\n",
    "        Gradient at the boundary set to 0 \n",
    "        -> value on the boundary same as value just inside the boundary\n",
    "        Args:\n",
    "            location (BCLocation): Where to apply bc\n",
    "            fluid_property (FluidProperty): Which property to enforce the boundary condition on\n",
    "        \"\"\"\n",
    "        if fluid_property == FluidProperty.VELOCITY:\n",
    "            self.ux[location.value] = self.ux[location.inside().value]\n",
    "            self.uy[location.value] = self.uy[location.inside().value]\n",
    "\n",
    "        elif fluid_property == FluidProperty.PRESSURE:\n",
    "            self.p[location.value] = self.p[location.inside().value]\n",
    "            \n",
    "            \n",
    "    def plot_velocity(self) -> None:\n",
    "        plt.quiver(self.x, self.y, self.ux, self.uy)\n",
    "        plt.show()\n",
    "        \n",
    "    def plot_pressure(self) -> None:\n",
    "        plt.imshow(self.p, cmap=\"hot\",  interpolation=\"nearest\")\n",
    "        plt.show()\n",
    "        \n",
    "    def plot_contourf(self) -> None:\n",
    "        raise NotImplementedError\n",
    "        plt.contourf()"
   ]
  },
  {
   "cell_type": "code",
   "execution_count": 238,
   "metadata": {},
   "outputs": [],
   "source": [
    "grid = Grid(GRID_SIZE, DOMAIN_SIZE)\n",
    "grid.bc_enforce_pressure()\n",
    "grid.bc_enforce_velocity()\n",
    "grid_tmp = Grid(GRID_SIZE, DOMAIN_SIZE)"
   ]
  },
  {
   "cell_type": "markdown",
   "metadata": {},
   "source": [
    "## 1. Impuls ohne Druckgradient"
   ]
  },
  {
   "cell_type": "markdown",
   "metadata": {},
   "source": [
    "$$\n",
    "\\frac{\\partial u}{\\partial t} + (u * \\nabla)u = \\nu\\nabla^2u\n",
    "$$\n",
    "\n",
    "1. for each point inside the domain (not on boundaries) calculate $\\frac{\\partial u}{\\partial t}$ according to the equation above. That is u* not taking into account the pressure changes\n",
    "2. Save the u* in a new grid "
   ]
  },
  {
   "cell_type": "markdown",
   "metadata": {},
   "source": [
    "### reminder for my stupid ass: np list slicing is [row_begin:row_end, column_begin:column_end]"
   ]
  },
  {
   "cell_type": "code",
   "execution_count": 239,
   "metadata": {},
   "outputs": [],
   "source": [
    "def d_dx(grid: np.ndarray) -> np.ndarray:\n",
    "    \"\"\"\n",
    "    central difference for all points inside the domain (not calculated on boundaries)\n",
    "    val right - left\n",
    "\n",
    "    Args:\n",
    "        grid (np.ndarray): the grid with values for that the central difference in x direction should be performed\n",
    "\n",
    "    Returns:\n",
    "        np.ndarray: grid of same size as input, containing the central difference in x direction for each cell in the input\n",
    "    \"\"\"\n",
    "    central_diff_x = np.zeros_like(grid)\n",
    "    central_diff_x[:, 1:-1] = (grid[:, 2:] - grid[:, :-2]) / (2*h)\n",
    "    return central_diff_x\n",
    "\n",
    "def d_dy(grid: np.ndarray) -> np.ndarray:\n",
    "    \"\"\"\n",
    "    central difference for all points inside the domain (not calculated on boundaries)\n",
    "    val Bottom - Top\n",
    "\n",
    "    Args:\n",
    "        grid (np.ndarray): the grid with values for that the central difference in y direction should be performed\n",
    "\n",
    "    Returns:\n",
    "        np.ndarray: grid of same size as input, containing the central difference in y direction for each cell in the input\n",
    "    \"\"\"\n",
    "    central_diff_y = np.zeros_like(grid)\n",
    "\n",
    "    central_diff_y[1:-1, :] = (grid[2:,:] - grid[:-2,:]) / (2*h)\n",
    "    return central_diff_y\n",
    "    \n",
    "\n",
    "def laplace(grid: np.ndarray) -> np.ndarray:\n",
    "    \"\"\"\n",
    "    Laplace operator \n",
    "    applies the laplace operator to each cell inside the domain \n",
    "    (right + left + Bottom + Top - 4*center) / h^2\n",
    "\n",
    "    Args:\n",
    "        grid (np.ndarray): the grid where laplace should be applied\n",
    "\n",
    "    Returns:\n",
    "        np.ndarray: grid of same size as input, each cell containing the value obtained after applying the laplace operator to the input\n",
    "    \"\"\"\n",
    "    lpc = np.zeros_like(grid)\n",
    "    lpc[1:-1,1:-1] = (grid[1:-1, 2:] + grid[1:-1, :-2] + grid[2:,1:-1] + grid[:-2,1:-1] - 4*grid[1:-1,1:-1]) / (h**2)\n",
    "    return lpc"
   ]
  },
  {
   "cell_type": "code",
   "execution_count": 240,
   "metadata": {},
   "outputs": [],
   "source": [
    "def impulse_without_pressure_gradient(grid: Grid):\n",
    "    dux_dt = nu*laplace(grid.ux)*grid.ux - (d_dx(grid.ux))*grid.ux\n",
    "    duy_dt = nu*laplace(grid.uy)*grid.uy - (d_dy(grid.uy))*grid.uy\n",
    "    return dux_dt, duy_dt"
   ]
  },
  {
   "cell_type": "code",
   "execution_count": 241,
   "metadata": {},
   "outputs": [],
   "source": [
    "example = np.linspace(0,1,11)**2\n",
    "example = [list(example*n) for n in range(11)]\n",
    "example = np.array(example)\n",
    "example[0,:] = 1\n",
    "example[:,-1] = 0\n",
    "example[:,-0] = 0\n",
    "example[-1,:] = 0\n",
    "assert round((0.04-0) / (h*2), 2) == round(d_dx(example)[1,1], 2)\n",
    "assert round((0.02-1) / (h*2),2) == round(d_dy(example)[1,1], 2)\n",
    "assert round((0.04 + 1.0 + 0.0 + 0.02 -4*0.01)/(h**2),2) == round(laplace(example)[1,1],2)\n",
    "\n",
    "# print(example)\n",
    "# print(\"\\nAt 1,1\")\n",
    "# print(f\"x diff: {(0.04-0) / (h*2)}\")\n",
    "# print(f\"x diff func: {d_dx(example)[1,1]}\")\n",
    "# print(f\"y diff: {(0.02-1) / (h*2)}\")\n",
    "# print(f\"y diff func: {d_dy(example)[1,1]}\")\n",
    "# print(f\"laplace: {(0.04 + 1.0 + 0.0 + 0.02 -4*0.01)/(h**2)}\")\n",
    "# print(f\"laplace func: {laplace(example)[1,1]}\")\n",
    "# print(d_dx(example))\n",
    "# print(d_dy(example))\n",
    "# print(laplace(example))\n"
   ]
  },
  {
   "cell_type": "code",
   "execution_count": 242,
   "metadata": {},
   "outputs": [],
   "source": [
    "dux_dt, duy_dt = impulse_without_pressure_gradient(grid)\n",
    "grid_tmp.ux = dux_dt\n",
    "grid_tmp.uy = duy_dt"
   ]
  },
  {
   "cell_type": "markdown",
   "metadata": {},
   "source": [
    "### 1.1 Geschwindigkeit RB erzwingen"
   ]
  },
  {
   "cell_type": "code",
   "execution_count": 243,
   "metadata": {},
   "outputs": [],
   "source": [
    "grid_tmp.bc_enforce_velocity()"
   ]
  },
  {
   "cell_type": "markdown",
   "metadata": {},
   "source": [
    "### 2.1 RHSE der Druck Posson Gleichung"
   ]
  },
  {
   "cell_type": "code",
   "execution_count": null,
   "metadata": {},
   "outputs": [
    {
     "data": {
      "text/plain": [
       "array([[1., 1., 1., ..., 1., 1., 1.],\n",
       "       [0., 0., 0., ..., 0., 0., 0.],\n",
       "       [0., 0., 0., ..., 0., 0., 0.],\n",
       "       ...,\n",
       "       [0., 0., 0., ..., 0., 0., 0.],\n",
       "       [0., 0., 0., ..., 0., 0., 0.],\n",
       "       [0., 0., 0., ..., 0., 0., 0.]])"
      ]
     },
     "execution_count": 244,
     "metadata": {},
     "output_type": "execute_result"
    }
   ],
   "source": [
    "(rho/delta_t) * (grid_tmp.ux + grid_tmp.uy)"
   ]
  },
  {
   "cell_type": "code",
   "execution_count": null,
   "metadata": {},
   "outputs": [],
   "source": []
  },
  {
   "cell_type": "code",
   "execution_count": null,
   "metadata": {},
   "outputs": [],
   "source": []
  }
 ],
 "metadata": {
  "kernelspec": {
   "display_name": "unet",
   "language": "python",
   "name": "python3"
  },
  "language_info": {
   "codemirror_mode": {
    "name": "ipython",
    "version": 3
   },
   "file_extension": ".py",
   "mimetype": "text/x-python",
   "name": "python",
   "nbconvert_exporter": "python",
   "pygments_lexer": "ipython3",
   "version": "3.12.7"
  }
 },
 "nbformat": 4,
 "nbformat_minor": 2
}
