{
 "cells": [
  {
   "cell_type": "markdown",
   "metadata": {},
   "source": [
    "## Lid Driven Cavity"
   ]
  },
  {
   "cell_type": "code",
   "execution_count": 17,
   "metadata": {},
   "outputs": [],
   "source": [
    "import numpy as np\n",
    "import matplotlib.pyplot as plt\n",
    "from enum import Enum\n"
   ]
  },
  {
   "cell_type": "markdown",
   "metadata": {},
   "source": [
    "## Definitions"
   ]
  },
  {
   "cell_type": "code",
   "execution_count": 18,
   "metadata": {},
   "outputs": [],
   "source": [
    "RHO = 1 # kg/m^3 Density\n",
    "NU = 0.01 # m/s^2 Kinematic Viscosity (v -> nu)\n",
    "GRID_SIZE = (41,41)\n",
    "DOMAIN_SIZE = (1,1) # m"
   ]
  },
  {
   "cell_type": "code",
   "execution_count": 19,
   "metadata": {},
   "outputs": [],
   "source": [
    "class BCType(Enum):\n",
    "    DIRICHLET = 0\n",
    "    NEUMANN = 1\n",
    "\n",
    "class BCLocation(Enum):\n",
    "    \"\"\"\n",
    "    Enum for defining the location where bc is applied\n",
    "    by calling .value you can get the slice for the grid\n",
    "    \"\"\"\n",
    "    TOP = (0, slice(None))         # [0, :]\n",
    "    BOTTOM = (-1, slice(None))     # [-1, :]\n",
    "    LEFT = (slice(None), 0)        # [:, 0]\n",
    "    RIGHT = (slice(None), -1)      # [:, -1]\n",
    "\n",
    "class FluidProperty(Enum):\n",
    "    VELOCITY = 0\n",
    "    PRESSURE = 1"
   ]
  },
  {
   "cell_type": "markdown",
   "metadata": {},
   "source": [
    "## 0. Initialisierung am Rechengitter"
   ]
  },
  {
   "cell_type": "code",
   "execution_count": null,
   "metadata": {},
   "outputs": [],
   "source": [
    "class Grid():\n",
    "    def __init__(self, \n",
    "                 grid_size: tuple[int, int], \n",
    "                 domain_size: tuple[int,int]):\n",
    "        \n",
    "        # dimensions\n",
    "        self.grid_size = grid_size\n",
    "        self.domain_size = domain_size\n",
    "        \n",
    "        # points along one coordinate axis (maybe dont need to save)\n",
    "        self.x_points: np.ndarray\n",
    "        self.y_points: np.ndarray\n",
    "        \n",
    "        # meshgrid coordinates\n",
    "        self.x: np.ndarray\n",
    "        self.y: np.ndarray\n",
    "        \n",
    "        # velocity\n",
    "        self.ux: np.ndarray\n",
    "        self.uy: np.ndarray\n",
    "        \n",
    "        # pressure\n",
    "        self.px: np.ndarray\n",
    "        self.py: np.ndarray\n",
    "        \n",
    "        self._initialize_mesh()\n",
    "        \n",
    "        \n",
    "    def _initialize_mesh(self) -> None:\n",
    "        \"\"\"\n",
    "        Initializes the mesh\n",
    "        Coordinates x, y + Grids for pressure and velocity in x and y direction\n",
    "        \"\"\"\n",
    "        self.x_points = np.linspace(0,self.domain_size[0], self.grid_size[0])\n",
    "        self.y_points = np.linspace(0, self.domain_size[1], self.grid_size[1])\n",
    "        \n",
    "        self.x, self.y = np.meshgrid(self.x_points, self.y_points) \n",
    "    \n",
    "        self.ux = np.zeros(self.grid_size)\n",
    "        self.uy = np.zeros(self.grid_size)\n",
    "        self.px = np.zeros(self.grid_size)\n",
    "        self.py = np.zeros(self.grid_size)\n",
    "        \n",
    "        \n",
    "        # self.bc_enforce(type=BCType.DIRICHLET, \n",
    "        #                 location=[BCLocation.RIGHT, BCLocation.BOTTOM, BCLocation.LEFT], \n",
    "        #                 value=[0,0],\n",
    "        #                 fluid_property=FluidProperty.VELOCITY)\n",
    "        \n",
    "        self.bc_enforce(type=BCType.DIRICHLET,\n",
    "                        location=BCLocation.TOP,\n",
    "                        val=[1,0],\n",
    "                        fluid_property=FluidProperty.VELOCITY)\n",
    "\n",
    "        # self.bc_enforce(type=BCType.NEUMANN, \n",
    "        #                 location=[BCLocation.RIGHT, BCLocation.BOTTOM, BCLocation.LEFT], \n",
    "        #                 value=0,\n",
    "        #                 fluid_property=FluidProperty.PRESSURE)\n",
    "        \n",
    "        # self.bc_enforce(type=BCType.DIRICHLET, \n",
    "        #                 location=BCLocation.TOP, \n",
    "        #                 value=0,\n",
    "        #                 fluid_property=FluidProperty.PRESSURE)        \n",
    "    \n",
    "    \n",
    "    \n",
    "    def _bc_dirichlet(self,\n",
    "                      location: BCLocation, \n",
    "                      val: list[float,float], \n",
    "                      fluid_property: FluidProperty):\n",
    "        \"\"\"\n",
    "        Enforces the boundary condition on the grid\n",
    "    \n",
    "        Args:\n",
    "            location (BCLocation): Where to apply the boundary condition\n",
    "            val (list[float,float]): what to\n",
    "            fluid_property (FluidProperty): Which property to enforce the boundary condition on\n",
    "        \"\"\"\n",
    "        if fluid_property == FluidProperty.VELOCITY:\n",
    "            self.ux[location.value] = val[0]\n",
    "            self.uy[location.value] = val[1]\n",
    "\n",
    "        elif fluid_property == FluidProperty.PRESSURE:\n",
    "            self.px[location.value] = val[0]\n",
    "            self.py[location.value] = val[1]\n",
    "\n",
    "            \n",
    "    def _bc_neumann(self,\n",
    "                    location: BCLocation,\n",
    "                    val: float, \n",
    "                    fluid_property: FluidProperty) -> None:\n",
    "        \"\"\"\n",
    "        Enforces the boundary condition on the grid\n",
    "        Args:\n",
    "            location (BCLocation): Where to apply bc\n",
    "            val (float): value to set the gradient to\n",
    "            fluid_property (FluidProperty): Which property to enforce the boundary condition on\n",
    "        \"\"\"\n",
    "        match location:\n",
    "            case BCLocation.TOP:\n",
    "                pass\n",
    "            case BCLocation.BOTTOM:\n",
    "                pass\n",
    "            case BCLocation.LEFT:\n",
    "                pass\n",
    "            case BCLocation.RIGHT:\n",
    "                pass\n",
    "        \n",
    "    \n",
    "    def bc_enforce(self,\n",
    "                   type: BCType,\n",
    "                   location: BCLocation | list[BCLocation], \n",
    "                   val: list[float,float] | float,\n",
    "                   fluid_property: FluidProperty):\n",
    "        \"\"\"\n",
    "        Enforces the boundary condition of the specified type at location on the Grid\n",
    "\n",
    "        Args:\n",
    "            type (BCType): The type of the boundary condition\n",
    "            location (BCLocation): Where to apply bc, if a list then the same bc is applied to all locations in the list\n",
    "            val (float): value to set the gradient to\n",
    "            fluid_property (FluidProperty): Which property to enforce the boundary condition on\n",
    "        \"\"\"\n",
    "        match type:\n",
    "            case BCType.DIRICHLET:\n",
    "                assert isinstance(val, list)\n",
    "                assert len(val) == 2\n",
    "                \n",
    "                if isinstance(location, list):\n",
    "                    for loc in location:\n",
    "                        self._bc_dirichlet(loc, val, fluid_property)        \n",
    "                else:\n",
    "                    self._bc_dirichlet(location, val, fluid_property)\n",
    "                \n",
    "            case BCType.NEUMANN:\n",
    "                assert isinstance(val, (float, int))\n",
    "                if isinstance(location, list):\n",
    "                    for loc in location:\n",
    "                        self._bc_neumann(loc, val, fluid_property)\n",
    "                else:\n",
    "                    self._bc_neumann(location, val, fluid_property)\n",
    "            \n",
    "\n",
    "grid = Grid(GRID_SIZE, DOMAIN_SIZE)"
   ]
  },
  {
   "cell_type": "code",
   "execution_count": null,
   "metadata": {},
   "outputs": [],
   "source": []
  },
  {
   "cell_type": "code",
   "execution_count": null,
   "metadata": {},
   "outputs": [],
   "source": []
  },
  {
   "cell_type": "code",
   "execution_count": null,
   "metadata": {},
   "outputs": [],
   "source": []
  },
  {
   "cell_type": "code",
   "execution_count": null,
   "metadata": {},
   "outputs": [],
   "source": [
    "plt.scatter(x,y, s=1)\n",
    "plt.title('2D Grid for Fluid Simulation')\n",
    "plt.xlabel('X')\n",
    "plt.ylabel('Y')\n",
    "plt.show()"
   ]
  },
  {
   "cell_type": "markdown",
   "metadata": {},
   "source": [
    "## 1. Impuls ohne Druckgradient"
   ]
  },
  {
   "cell_type": "markdown",
   "metadata": {},
   "source": [
    "$$\n",
    "\\frac{\\partial u}{\\partial t} + (u * \\nabla)u = \\nu\\nabla^2u\n",
    "$$"
   ]
  },
  {
   "cell_type": "code",
   "execution_count": null,
   "metadata": {},
   "outputs": [],
   "source": [
    "def impuls_without_pressure_gradient(coords: tuple[float,float]):\n",
    "    \n",
    "    \n",
    "impuls_without_pressure_gradient()"
   ]
  },
  {
   "cell_type": "code",
   "execution_count": null,
   "metadata": {},
   "outputs": [],
   "source": []
  },
  {
   "cell_type": "code",
   "execution_count": null,
   "metadata": {},
   "outputs": [],
   "source": []
  },
  {
   "cell_type": "code",
   "execution_count": null,
   "metadata": {},
   "outputs": [],
   "source": []
  }
 ],
 "metadata": {
  "kernelspec": {
   "display_name": "unet",
   "language": "python",
   "name": "python3"
  },
  "language_info": {
   "codemirror_mode": {
    "name": "ipython",
    "version": 3
   },
   "file_extension": ".py",
   "mimetype": "text/x-python",
   "name": "python",
   "nbconvert_exporter": "python",
   "pygments_lexer": "ipython3",
   "version": "3.12.7"
  }
 },
 "nbformat": 4,
 "nbformat_minor": 2
}
